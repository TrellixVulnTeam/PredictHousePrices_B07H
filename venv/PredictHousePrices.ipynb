{
 "cells": [
  {
   "cell_type": "markdown",
   "metadata": {},
   "source": [
    "# Predicting House Prices with Machine Learning"
   ]
  },
  {
   "cell_type": "markdown",
   "metadata": {},
   "source": [
    "## A look into the data and data cleaning"
   ]
  },
  {
   "cell_type": "markdown",
   "metadata": {},
   "source": [
    "First, let's understand our data and clean, if we need (certainly)"
   ]
  },
  {
   "cell_type": "code",
   "execution_count": 2,
   "metadata": {},
   "outputs": [],
   "source": [
    "# Let's import all the libraries that we will need in this code\n",
    "import pandas as pd\n",
    "import numpy as np\n",
    "import matplotlib.pyplot as plt\n",
    "import seaborn as sns\n",
    "import sklearn as skl\n",
    "from sklearn.model_selection import train_test_split\n",
    "from sklearn import ensemble\n",
    "from sklearn import linear_model\n",
    "import sklearn.metrics as metrics"
   ]
  },
  {
   "cell_type": "markdown",
   "metadata": {},
   "source": [
    "This data can be found here: https://www.kaggle.com/argonalyst/sao-paulo-real-estate-sale-rent-april-2019"
   ]
  },
  {
   "cell_type": "code",
   "execution_count": 3,
   "metadata": {},
   "outputs": [
    {
     "data": {
      "text/html": [
       "<div>\n",
       "<style scoped>\n",
       "    .dataframe tbody tr th:only-of-type {\n",
       "        vertical-align: middle;\n",
       "    }\n",
       "\n",
       "    .dataframe tbody tr th {\n",
       "        vertical-align: top;\n",
       "    }\n",
       "\n",
       "    .dataframe thead th {\n",
       "        text-align: right;\n",
       "    }\n",
       "</style>\n",
       "<table border=\"1\" class=\"dataframe\">\n",
       "  <thead>\n",
       "    <tr style=\"text-align: right;\">\n",
       "      <th></th>\n",
       "      <th>Price</th>\n",
       "      <th>Condo</th>\n",
       "      <th>Size</th>\n",
       "      <th>Rooms</th>\n",
       "      <th>Toilets</th>\n",
       "      <th>Suites</th>\n",
       "      <th>Parking</th>\n",
       "      <th>Elevator</th>\n",
       "      <th>Furnished</th>\n",
       "      <th>Swimming Pool</th>\n",
       "      <th>New</th>\n",
       "      <th>District</th>\n",
       "      <th>Negotiation Type</th>\n",
       "      <th>Property Type</th>\n",
       "      <th>Latitude</th>\n",
       "      <th>Longitude</th>\n",
       "    </tr>\n",
       "  </thead>\n",
       "  <tbody>\n",
       "    <tr>\n",
       "      <th>0</th>\n",
       "      <td>930</td>\n",
       "      <td>220</td>\n",
       "      <td>47</td>\n",
       "      <td>2</td>\n",
       "      <td>2</td>\n",
       "      <td>1</td>\n",
       "      <td>1</td>\n",
       "      <td>0</td>\n",
       "      <td>0</td>\n",
       "      <td>0</td>\n",
       "      <td>0</td>\n",
       "      <td>Artur Alvim/São Paulo</td>\n",
       "      <td>rent</td>\n",
       "      <td>apartment</td>\n",
       "      <td>-23.543138</td>\n",
       "      <td>-46.479486</td>\n",
       "    </tr>\n",
       "    <tr>\n",
       "      <th>1</th>\n",
       "      <td>1000</td>\n",
       "      <td>148</td>\n",
       "      <td>45</td>\n",
       "      <td>2</td>\n",
       "      <td>2</td>\n",
       "      <td>1</td>\n",
       "      <td>1</td>\n",
       "      <td>0</td>\n",
       "      <td>0</td>\n",
       "      <td>0</td>\n",
       "      <td>0</td>\n",
       "      <td>Artur Alvim/São Paulo</td>\n",
       "      <td>rent</td>\n",
       "      <td>apartment</td>\n",
       "      <td>-23.550239</td>\n",
       "      <td>-46.480718</td>\n",
       "    </tr>\n",
       "    <tr>\n",
       "      <th>2</th>\n",
       "      <td>1000</td>\n",
       "      <td>100</td>\n",
       "      <td>48</td>\n",
       "      <td>2</td>\n",
       "      <td>2</td>\n",
       "      <td>1</td>\n",
       "      <td>1</td>\n",
       "      <td>0</td>\n",
       "      <td>0</td>\n",
       "      <td>0</td>\n",
       "      <td>0</td>\n",
       "      <td>Artur Alvim/São Paulo</td>\n",
       "      <td>rent</td>\n",
       "      <td>apartment</td>\n",
       "      <td>-23.542818</td>\n",
       "      <td>-46.485665</td>\n",
       "    </tr>\n",
       "    <tr>\n",
       "      <th>3</th>\n",
       "      <td>1000</td>\n",
       "      <td>200</td>\n",
       "      <td>48</td>\n",
       "      <td>2</td>\n",
       "      <td>2</td>\n",
       "      <td>1</td>\n",
       "      <td>1</td>\n",
       "      <td>0</td>\n",
       "      <td>0</td>\n",
       "      <td>0</td>\n",
       "      <td>0</td>\n",
       "      <td>Artur Alvim/São Paulo</td>\n",
       "      <td>rent</td>\n",
       "      <td>apartment</td>\n",
       "      <td>-23.547171</td>\n",
       "      <td>-46.483014</td>\n",
       "    </tr>\n",
       "    <tr>\n",
       "      <th>4</th>\n",
       "      <td>1300</td>\n",
       "      <td>410</td>\n",
       "      <td>55</td>\n",
       "      <td>2</td>\n",
       "      <td>2</td>\n",
       "      <td>1</td>\n",
       "      <td>1</td>\n",
       "      <td>1</td>\n",
       "      <td>0</td>\n",
       "      <td>0</td>\n",
       "      <td>0</td>\n",
       "      <td>Artur Alvim/São Paulo</td>\n",
       "      <td>rent</td>\n",
       "      <td>apartment</td>\n",
       "      <td>-23.525025</td>\n",
       "      <td>-46.482436</td>\n",
       "    </tr>\n",
       "  </tbody>\n",
       "</table>\n",
       "</div>"
      ],
      "text/plain": [
       "   Price  Condo  Size  Rooms  Toilets  Suites  Parking  Elevator  Furnished  \\\n",
       "0    930    220    47      2        2       1        1         0          0   \n",
       "1   1000    148    45      2        2       1        1         0          0   \n",
       "2   1000    100    48      2        2       1        1         0          0   \n",
       "3   1000    200    48      2        2       1        1         0          0   \n",
       "4   1300    410    55      2        2       1        1         1          0   \n",
       "\n",
       "   Swimming Pool  New               District Negotiation Type Property Type  \\\n",
       "0              0    0  Artur Alvim/São Paulo             rent     apartment   \n",
       "1              0    0  Artur Alvim/São Paulo             rent     apartment   \n",
       "2              0    0  Artur Alvim/São Paulo             rent     apartment   \n",
       "3              0    0  Artur Alvim/São Paulo             rent     apartment   \n",
       "4              0    0  Artur Alvim/São Paulo             rent     apartment   \n",
       "\n",
       "    Latitude  Longitude  \n",
       "0 -23.543138 -46.479486  \n",
       "1 -23.550239 -46.480718  \n",
       "2 -23.542818 -46.485665  \n",
       "3 -23.547171 -46.483014  \n",
       "4 -23.525025 -46.482436  "
      ]
     },
     "execution_count": 3,
     "metadata": {},
     "output_type": "execute_result"
    }
   ],
   "source": [
    "df = pd.read_csv('sao-paulo-properties-april-2019.csv')\n",
    "df.head()"
   ]
  },
  {
   "cell_type": "code",
   "execution_count": 4,
   "metadata": {},
   "outputs": [
    {
     "data": {
      "text/plain": [
       "Price               0\n",
       "Condo               0\n",
       "Size                0\n",
       "Rooms               0\n",
       "Toilets             0\n",
       "Suites              0\n",
       "Parking             0\n",
       "Elevator            0\n",
       "Furnished           0\n",
       "Swimming Pool       0\n",
       "New                 0\n",
       "District            0\n",
       "Negotiation Type    0\n",
       "Property Type       0\n",
       "Latitude            0\n",
       "Longitude           0\n",
       "dtype: int64"
      ]
     },
     "execution_count": 4,
     "metadata": {},
     "output_type": "execute_result"
    }
   ],
   "source": [
    "df.isnull().sum()"
   ]
  },
  {
   "cell_type": "markdown",
   "metadata": {},
   "source": [
    "Great! We don't have null values o/"
   ]
  },
  {
   "cell_type": "code",
   "execution_count": 5,
   "metadata": {},
   "outputs": [
    {
     "data": {
      "text/html": [
       "<div>\n",
       "<style scoped>\n",
       "    .dataframe tbody tr th:only-of-type {\n",
       "        vertical-align: middle;\n",
       "    }\n",
       "\n",
       "    .dataframe tbody tr th {\n",
       "        vertical-align: top;\n",
       "    }\n",
       "\n",
       "    .dataframe thead th {\n",
       "        text-align: right;\n",
       "    }\n",
       "</style>\n",
       "<table border=\"1\" class=\"dataframe\">\n",
       "  <thead>\n",
       "    <tr style=\"text-align: right;\">\n",
       "      <th></th>\n",
       "      <th>Price</th>\n",
       "      <th>Condo</th>\n",
       "      <th>Size</th>\n",
       "      <th>Rooms</th>\n",
       "      <th>Toilets</th>\n",
       "      <th>Suites</th>\n",
       "      <th>Parking</th>\n",
       "      <th>Elevator</th>\n",
       "      <th>Furnished</th>\n",
       "      <th>Swimming Pool</th>\n",
       "      <th>New</th>\n",
       "      <th>Latitude</th>\n",
       "      <th>Longitude</th>\n",
       "    </tr>\n",
       "  </thead>\n",
       "  <tbody>\n",
       "    <tr>\n",
       "      <th>count</th>\n",
       "      <td>1.364000e+04</td>\n",
       "      <td>13640.000000</td>\n",
       "      <td>13640.000000</td>\n",
       "      <td>13640.000000</td>\n",
       "      <td>13640.000000</td>\n",
       "      <td>13640.000000</td>\n",
       "      <td>13640.000000</td>\n",
       "      <td>13640.000000</td>\n",
       "      <td>13640.000000</td>\n",
       "      <td>13640.00000</td>\n",
       "      <td>13640.000000</td>\n",
       "      <td>13640.000000</td>\n",
       "      <td>13640.000000</td>\n",
       "    </tr>\n",
       "    <tr>\n",
       "      <th>mean</th>\n",
       "      <td>2.877378e+05</td>\n",
       "      <td>689.882331</td>\n",
       "      <td>84.373900</td>\n",
       "      <td>2.312023</td>\n",
       "      <td>2.073680</td>\n",
       "      <td>0.980792</td>\n",
       "      <td>1.393182</td>\n",
       "      <td>0.354179</td>\n",
       "      <td>0.146774</td>\n",
       "      <td>0.51217</td>\n",
       "      <td>0.015616</td>\n",
       "      <td>-22.077047</td>\n",
       "      <td>-43.597088</td>\n",
       "    </tr>\n",
       "    <tr>\n",
       "      <th>std</th>\n",
       "      <td>5.908214e+05</td>\n",
       "      <td>757.649363</td>\n",
       "      <td>58.435676</td>\n",
       "      <td>0.777461</td>\n",
       "      <td>0.961803</td>\n",
       "      <td>0.834891</td>\n",
       "      <td>0.829932</td>\n",
       "      <td>0.478281</td>\n",
       "      <td>0.353894</td>\n",
       "      <td>0.49987</td>\n",
       "      <td>0.123988</td>\n",
       "      <td>5.866633</td>\n",
       "      <td>11.487288</td>\n",
       "    </tr>\n",
       "    <tr>\n",
       "      <th>min</th>\n",
       "      <td>4.800000e+02</td>\n",
       "      <td>0.000000</td>\n",
       "      <td>30.000000</td>\n",
       "      <td>1.000000</td>\n",
       "      <td>1.000000</td>\n",
       "      <td>0.000000</td>\n",
       "      <td>0.000000</td>\n",
       "      <td>0.000000</td>\n",
       "      <td>0.000000</td>\n",
       "      <td>0.00000</td>\n",
       "      <td>0.000000</td>\n",
       "      <td>-46.749039</td>\n",
       "      <td>-58.364352</td>\n",
       "    </tr>\n",
       "    <tr>\n",
       "      <th>25%</th>\n",
       "      <td>1.858750e+03</td>\n",
       "      <td>290.000000</td>\n",
       "      <td>50.000000</td>\n",
       "      <td>2.000000</td>\n",
       "      <td>2.000000</td>\n",
       "      <td>1.000000</td>\n",
       "      <td>1.000000</td>\n",
       "      <td>0.000000</td>\n",
       "      <td>0.000000</td>\n",
       "      <td>0.00000</td>\n",
       "      <td>0.000000</td>\n",
       "      <td>-23.594552</td>\n",
       "      <td>-46.681671</td>\n",
       "    </tr>\n",
       "    <tr>\n",
       "      <th>50%</th>\n",
       "      <td>8.100000e+03</td>\n",
       "      <td>500.000000</td>\n",
       "      <td>65.000000</td>\n",
       "      <td>2.000000</td>\n",
       "      <td>2.000000</td>\n",
       "      <td>1.000000</td>\n",
       "      <td>1.000000</td>\n",
       "      <td>0.000000</td>\n",
       "      <td>0.000000</td>\n",
       "      <td>1.00000</td>\n",
       "      <td>0.000000</td>\n",
       "      <td>-23.552813</td>\n",
       "      <td>-46.637255</td>\n",
       "    </tr>\n",
       "    <tr>\n",
       "      <th>75%</th>\n",
       "      <td>3.600000e+05</td>\n",
       "      <td>835.000000</td>\n",
       "      <td>94.000000</td>\n",
       "      <td>3.000000</td>\n",
       "      <td>2.000000</td>\n",
       "      <td>1.000000</td>\n",
       "      <td>2.000000</td>\n",
       "      <td>1.000000</td>\n",
       "      <td>0.000000</td>\n",
       "      <td>1.00000</td>\n",
       "      <td>0.000000</td>\n",
       "      <td>-23.517640</td>\n",
       "      <td>-46.560040</td>\n",
       "    </tr>\n",
       "    <tr>\n",
       "      <th>max</th>\n",
       "      <td>1.000000e+07</td>\n",
       "      <td>9500.000000</td>\n",
       "      <td>880.000000</td>\n",
       "      <td>10.000000</td>\n",
       "      <td>8.000000</td>\n",
       "      <td>6.000000</td>\n",
       "      <td>9.000000</td>\n",
       "      <td>1.000000</td>\n",
       "      <td>1.000000</td>\n",
       "      <td>1.00000</td>\n",
       "      <td>1.000000</td>\n",
       "      <td>0.000000</td>\n",
       "      <td>0.000000</td>\n",
       "    </tr>\n",
       "  </tbody>\n",
       "</table>\n",
       "</div>"
      ],
      "text/plain": [
       "              Price         Condo          Size         Rooms       Toilets  \\\n",
       "count  1.364000e+04  13640.000000  13640.000000  13640.000000  13640.000000   \n",
       "mean   2.877378e+05    689.882331     84.373900      2.312023      2.073680   \n",
       "std    5.908214e+05    757.649363     58.435676      0.777461      0.961803   \n",
       "min    4.800000e+02      0.000000     30.000000      1.000000      1.000000   \n",
       "25%    1.858750e+03    290.000000     50.000000      2.000000      2.000000   \n",
       "50%    8.100000e+03    500.000000     65.000000      2.000000      2.000000   \n",
       "75%    3.600000e+05    835.000000     94.000000      3.000000      2.000000   \n",
       "max    1.000000e+07   9500.000000    880.000000     10.000000      8.000000   \n",
       "\n",
       "             Suites       Parking      Elevator     Furnished  Swimming Pool  \\\n",
       "count  13640.000000  13640.000000  13640.000000  13640.000000    13640.00000   \n",
       "mean       0.980792      1.393182      0.354179      0.146774        0.51217   \n",
       "std        0.834891      0.829932      0.478281      0.353894        0.49987   \n",
       "min        0.000000      0.000000      0.000000      0.000000        0.00000   \n",
       "25%        1.000000      1.000000      0.000000      0.000000        0.00000   \n",
       "50%        1.000000      1.000000      0.000000      0.000000        1.00000   \n",
       "75%        1.000000      2.000000      1.000000      0.000000        1.00000   \n",
       "max        6.000000      9.000000      1.000000      1.000000        1.00000   \n",
       "\n",
       "                New      Latitude     Longitude  \n",
       "count  13640.000000  13640.000000  13640.000000  \n",
       "mean       0.015616    -22.077047    -43.597088  \n",
       "std        0.123988      5.866633     11.487288  \n",
       "min        0.000000    -46.749039    -58.364352  \n",
       "25%        0.000000    -23.594552    -46.681671  \n",
       "50%        0.000000    -23.552813    -46.637255  \n",
       "75%        0.000000    -23.517640    -46.560040  \n",
       "max        1.000000      0.000000      0.000000  "
      ]
     },
     "execution_count": 5,
     "metadata": {},
     "output_type": "execute_result"
    }
   ],
   "source": [
    "df.describe()"
   ]
  },
  {
   "cell_type": "markdown",
   "metadata": {},
   "source": [
    "We have some red lights here:\n",
    "1. Some variables that should be Boolean are not in the dataset: Elevator, Furnished, Swimming Pool and New.\n",
    "2. Latitude and Longitude has weird values, that certainly are not in São Paulo - like 0. I thik we are not in the Equator or Prime Meridian."
   ]
  },
  {
   "cell_type": "markdown",
   "metadata": {},
   "source": [
    "Before checking and fixing the red lights that we saw, let's understand more about the variables that are not on the describe: \n",
    "- District\t\n",
    "- Negotiation Type\t\n",
    "- Property Type\t"
   ]
  },
  {
   "cell_type": "code",
   "execution_count": 6,
   "metadata": {},
   "outputs": [
    {
     "data": {
      "text/plain": [
       "Moema/São Paulo              293\n",
       "Mooca/São Paulo              288\n",
       "Brás/São Paulo               255\n",
       "Brooklin/São Paulo           250\n",
       "Bela Vista/São Paulo         250\n",
       "                            ... \n",
       "Jardim São Luis/São Paulo     44\n",
       "São Rafael/São Paulo          44\n",
       "Grajaú/São Paulo              37\n",
       "São Domingos/São Paulo        35\n",
       "Perus/São Paulo               30\n",
       "Name: District, Length: 96, dtype: int64"
      ]
     },
     "execution_count": 6,
     "metadata": {},
     "output_type": "execute_result"
    }
   ],
   "source": [
    "df['District'].value_counts()"
   ]
  },
  {
   "cell_type": "markdown",
   "metadata": {},
   "source": [
    "Looks right, but first, let's check if all the values are in São Paulo"
   ]
  },
  {
   "cell_type": "code",
   "execution_count": 7,
   "metadata": {},
   "outputs": [
    {
     "data": {
      "text/plain": [
       "13640"
      ]
     },
     "execution_count": 7,
     "metadata": {},
     "output_type": "execute_result"
    }
   ],
   "source": [
    "len(df[df['District'].str.contains('São Paulo')])"
   ]
  },
  {
   "cell_type": "markdown",
   "metadata": {},
   "source": [
    "Right!!!"
   ]
  },
  {
   "cell_type": "code",
   "execution_count": 8,
   "metadata": {},
   "outputs": [
    {
     "data": {
      "text/plain": [
       "rent    7228\n",
       "sale    6412\n",
       "Name: Negotiation Type, dtype: int64"
      ]
     },
     "execution_count": 8,
     "metadata": {},
     "output_type": "execute_result"
    }
   ],
   "source": [
    "df['Negotiation Type'].value_counts()"
   ]
  },
  {
   "cell_type": "markdown",
   "metadata": {},
   "source": [
    "So we have properties for sale and rent, they probably will need to be separeted forward."
   ]
  },
  {
   "cell_type": "code",
   "execution_count": 9,
   "metadata": {},
   "outputs": [
    {
     "data": {
      "text/plain": [
       "apartment    13640\n",
       "Name: Property Type, dtype: int64"
      ]
     },
     "execution_count": 9,
     "metadata": {},
     "output_type": "execute_result"
    }
   ],
   "source": [
    "df['Property Type'].value_counts()"
   ]
  },
  {
   "cell_type": "markdown",
   "metadata": {},
   "source": [
    "Ok! Everything else seems right. So let's check our first red light --> the integer values that should be booleans!"
   ]
  },
  {
   "cell_type": "code",
   "execution_count": 10,
   "metadata": {},
   "outputs": [
    {
     "data": {
      "text/plain": [
       "Price                 int64\n",
       "Condo                 int64\n",
       "Size                  int64\n",
       "Rooms                 int64\n",
       "Toilets               int64\n",
       "Suites                int64\n",
       "Parking               int64\n",
       "Elevator              int64\n",
       "Furnished             int64\n",
       "Swimming Pool         int64\n",
       "New                   int64\n",
       "District             object\n",
       "Negotiation Type     object\n",
       "Property Type        object\n",
       "Latitude            float64\n",
       "Longitude           float64\n",
       "dtype: object"
      ]
     },
     "execution_count": 10,
     "metadata": {},
     "output_type": "execute_result"
    }
   ],
   "source": [
    "df.dtypes"
   ]
  },
  {
   "cell_type": "markdown",
   "metadata": {},
   "source": [
    "Yes =(, they are wrong, all the other variables make sense.\n",
    "Let's fix this o/"
   ]
  },
  {
   "cell_type": "code",
   "execution_count": 11,
   "metadata": {},
   "outputs": [],
   "source": [
    "# Changing the variables (Elevator, Furnished, Swimming Pool and New) classified as int to bool.\n",
    "df['Elevator']= df['Elevator'].astype(bool)\n",
    "df['Furnished']= df['Furnished'].astype(bool)\n",
    "df['Swimming Pool']= df['Swimming Pool'].astype(bool)\n",
    "df['New']= df['New'].astype(bool)"
   ]
  },
  {
   "cell_type": "markdown",
   "metadata": {},
   "source": [
    "Let's check"
   ]
  },
  {
   "cell_type": "code",
   "execution_count": 12,
   "metadata": {},
   "outputs": [
    {
     "data": {
      "text/plain": [
       "Price                 int64\n",
       "Condo                 int64\n",
       "Size                  int64\n",
       "Rooms                 int64\n",
       "Toilets               int64\n",
       "Suites                int64\n",
       "Parking               int64\n",
       "Elevator               bool\n",
       "Furnished              bool\n",
       "Swimming Pool          bool\n",
       "New                    bool\n",
       "District             object\n",
       "Negotiation Type     object\n",
       "Property Type        object\n",
       "Latitude            float64\n",
       "Longitude           float64\n",
       "dtype: object"
      ]
     },
     "execution_count": 12,
     "metadata": {},
     "output_type": "execute_result"
    }
   ],
   "source": [
    "df.dtypes"
   ]
  },
  {
   "cell_type": "markdown",
   "metadata": {},
   "source": [
    "Nice! Number 1 is fixed, lets go to Number 2 now."
   ]
  },
  {
   "cell_type": "code",
   "execution_count": 13,
   "metadata": {},
   "outputs": [
    {
     "data": {
      "text/plain": [
       " 0.000000     881\n",
       "-23.505391     57\n",
       "-23.604294     43\n",
       "-26.922512     32\n",
       "-23.714221     25\n",
       "             ... \n",
       "-23.549950      1\n",
       "-23.709521      1\n",
       "-23.588046      1\n",
       "-23.648277      1\n",
       "-23.552082      1\n",
       "Name: Latitude, Length: 8405, dtype: int64"
      ]
     },
     "execution_count": 13,
     "metadata": {},
     "output_type": "execute_result"
    }
   ],
   "source": [
    "df['Latitude'].value_counts()"
   ]
  },
  {
   "cell_type": "code",
   "execution_count": 14,
   "metadata": {},
   "outputs": [
    {
     "data": {
      "text/plain": [
       " 0.000000     881\n",
       "-46.622783     57\n",
       "-46.518325     43\n",
       "-49.060707     32\n",
       "-46.533612     26\n",
       "             ... \n",
       "-46.640676      1\n",
       "-46.397772      1\n",
       "-46.538700      1\n",
       "-46.621514      1\n",
       "-46.562182      1\n",
       "Name: Longitude, Length: 8451, dtype: int64"
      ]
     },
     "execution_count": 14,
     "metadata": {},
     "output_type": "execute_result"
    }
   ],
   "source": [
    "df['Longitude'].value_counts()"
   ]
  },
  {
   "cell_type": "markdown",
   "metadata": {},
   "source": [
    "881 values that has 0 Latitude and Longitude, should be null. But let's plot to understando more about it."
   ]
  },
  {
   "cell_type": "code",
   "execution_count": 15,
   "metadata": {},
   "outputs": [
    {
     "data": {
      "text/plain": [
       "<Figure size 720x720 with 0 Axes>"
      ]
     },
     "metadata": {},
     "output_type": "display_data"
    },
    {
     "data": {
      "image/png": "[encoded data removed]",
      "text/plain": [
       "<Figure size 720x720 with 3 Axes>"
      ]
     },
     "metadata": {
      "needs_background": "light"
     },
     "output_type": "display_data"
    },
    {
     "data": {
      "text/plain": [
       "<function seaborn.utils.despine(fig=None, ax=None, top=True, right=True, left=False, bottom=False, offset=None, trim=False)>"
      ]
     },
     "execution_count": 15,
     "metadata": {},
     "output_type": "execute_result"
    }
   ],
   "source": [
    "#Plotting a figure with our Latitude and Longitude values.\n",
    "plt.figure(figsize=(10,10))\n",
    "sns.jointplot(x=df['Latitude'].values, y=df['Longitude'].values, height=10)\n",
    "plt.ylabel('Longitude', fontsize=12)\n",
    "plt.xlabel('Latitude', fontsize=12)\n",
    "plt.show()\n",
    "sns.despine"
   ]
  },
  {
   "cell_type": "markdown",
   "metadata": {},
   "source": [
    "This is very weird, don't make any sense that all of our values are located in São Paulo. Making a very quickly search I could understand some of the São Paulo's Latitude and Longitude limits."
   ]
  },
  {
   "cell_type": "code",
   "execution_count": 16,
   "metadata": {},
   "outputs": [
    {
     "data": {
      "text/html": [
       "<div>\n",
       "<style scoped>\n",
       "    .dataframe tbody tr th:only-of-type {\n",
       "        vertical-align: middle;\n",
       "    }\n",
       "\n",
       "    .dataframe tbody tr th {\n",
       "        vertical-align: top;\n",
       "    }\n",
       "\n",
       "    .dataframe thead th {\n",
       "        text-align: right;\n",
       "    }\n",
       "</style>\n",
       "<table border=\"1\" class=\"dataframe\">\n",
       "  <thead>\n",
       "    <tr style=\"text-align: right;\">\n",
       "      <th></th>\n",
       "      <th>Price</th>\n",
       "      <th>Condo</th>\n",
       "      <th>Size</th>\n",
       "      <th>Rooms</th>\n",
       "      <th>Toilets</th>\n",
       "      <th>Suites</th>\n",
       "      <th>Parking</th>\n",
       "      <th>Latitude</th>\n",
       "      <th>Longitude</th>\n",
       "    </tr>\n",
       "  </thead>\n",
       "  <tbody>\n",
       "    <tr>\n",
       "      <th>count</th>\n",
       "      <td>1.260600e+04</td>\n",
       "      <td>12606.000000</td>\n",
       "      <td>12606.000000</td>\n",
       "      <td>12606.000000</td>\n",
       "      <td>12606.000000</td>\n",
       "      <td>12606.000000</td>\n",
       "      <td>12606.000000</td>\n",
       "      <td>12606.000000</td>\n",
       "      <td>12606.000000</td>\n",
       "    </tr>\n",
       "    <tr>\n",
       "      <th>mean</th>\n",
       "      <td>2.917262e+05</td>\n",
       "      <td>697.691179</td>\n",
       "      <td>84.992147</td>\n",
       "      <td>2.321672</td>\n",
       "      <td>2.109710</td>\n",
       "      <td>1.012058</td>\n",
       "      <td>1.408218</td>\n",
       "      <td>-23.562104</td>\n",
       "      <td>-46.626490</td>\n",
       "    </tr>\n",
       "    <tr>\n",
       "      <th>std</th>\n",
       "      <td>5.957324e+05</td>\n",
       "      <td>763.086340</td>\n",
       "      <td>58.410950</td>\n",
       "      <td>0.777236</td>\n",
       "      <td>0.959277</td>\n",
       "      <td>0.825235</td>\n",
       "      <td>0.829317</td>\n",
       "      <td>0.054057</td>\n",
       "      <td>0.084444</td>\n",
       "    </tr>\n",
       "    <tr>\n",
       "      <th>min</th>\n",
       "      <td>4.800000e+02</td>\n",
       "      <td>0.000000</td>\n",
       "      <td>30.000000</td>\n",
       "      <td>1.000000</td>\n",
       "      <td>1.000000</td>\n",
       "      <td>0.000000</td>\n",
       "      <td>0.000000</td>\n",
       "      <td>-23.773509</td>\n",
       "      <td>-46.789329</td>\n",
       "    </tr>\n",
       "    <tr>\n",
       "      <th>25%</th>\n",
       "      <td>1.900000e+03</td>\n",
       "      <td>295.000000</td>\n",
       "      <td>50.000000</td>\n",
       "      <td>2.000000</td>\n",
       "      <td>2.000000</td>\n",
       "      <td>1.000000</td>\n",
       "      <td>1.000000</td>\n",
       "      <td>-23.598324</td>\n",
       "      <td>-46.683409</td>\n",
       "    </tr>\n",
       "    <tr>\n",
       "      <th>50%</th>\n",
       "      <td>8.000000e+03</td>\n",
       "      <td>510.000000</td>\n",
       "      <td>65.000000</td>\n",
       "      <td>2.000000</td>\n",
       "      <td>2.000000</td>\n",
       "      <td>1.000000</td>\n",
       "      <td>1.000000</td>\n",
       "      <td>-23.555913</td>\n",
       "      <td>-46.642915</td>\n",
       "    </tr>\n",
       "    <tr>\n",
       "      <th>75%</th>\n",
       "      <td>3.700000e+05</td>\n",
       "      <td>850.000000</td>\n",
       "      <td>95.000000</td>\n",
       "      <td>3.000000</td>\n",
       "      <td>2.000000</td>\n",
       "      <td>1.000000</td>\n",
       "      <td>2.000000</td>\n",
       "      <td>-23.526339</td>\n",
       "      <td>-46.584821</td>\n",
       "    </tr>\n",
       "    <tr>\n",
       "      <th>max</th>\n",
       "      <td>1.000000e+07</td>\n",
       "      <td>9500.000000</td>\n",
       "      <td>880.000000</td>\n",
       "      <td>10.000000</td>\n",
       "      <td>8.000000</td>\n",
       "      <td>6.000000</td>\n",
       "      <td>9.000000</td>\n",
       "      <td>-23.394787</td>\n",
       "      <td>-46.372909</td>\n",
       "    </tr>\n",
       "  </tbody>\n",
       "</table>\n",
       "</div>"
      ],
      "text/plain": [
       "              Price         Condo          Size         Rooms       Toilets  \\\n",
       "count  1.260600e+04  12606.000000  12606.000000  12606.000000  12606.000000   \n",
       "mean   2.917262e+05    697.691179     84.992147      2.321672      2.109710   \n",
       "std    5.957324e+05    763.086340     58.410950      0.777236      0.959277   \n",
       "min    4.800000e+02      0.000000     30.000000      1.000000      1.000000   \n",
       "25%    1.900000e+03    295.000000     50.000000      2.000000      2.000000   \n",
       "50%    8.000000e+03    510.000000     65.000000      2.000000      2.000000   \n",
       "75%    3.700000e+05    850.000000     95.000000      3.000000      2.000000   \n",
       "max    1.000000e+07   9500.000000    880.000000     10.000000      8.000000   \n",
       "\n",
       "             Suites       Parking      Latitude     Longitude  \n",
       "count  12606.000000  12606.000000  12606.000000  12606.000000  \n",
       "mean       1.012058      1.408218    -23.562104    -46.626490  \n",
       "std        0.825235      0.829317      0.054057      0.084444  \n",
       "min        0.000000      0.000000    -23.773509    -46.789329  \n",
       "25%        1.000000      1.000000    -23.598324    -46.683409  \n",
       "50%        1.000000      1.000000    -23.555913    -46.642915  \n",
       "75%        1.000000      2.000000    -23.526339    -46.584821  \n",
       "max        6.000000      9.000000    -23.394787    -46.372909  "
      ]
     },
     "execution_count": 16,
     "metadata": {},
     "output_type": "execute_result"
    }
   ],
   "source": [
    "#Checking how many Latitude and Longitude results are in São Paulo area.\n",
    "df_saopaulo = df\n",
    "df_saopaulo = df_saopaulo[df_saopaulo['Latitude'] > -23.851887 ]\n",
    "df_saopaulo = df_saopaulo[df_saopaulo['Latitude'] < -23.389128 ]\n",
    "df_saopaulo = df_saopaulo[df_saopaulo['Longitude'] < -46.369222 ]\n",
    "df_saopaulo = df_saopaulo[df_saopaulo['Longitude'] > -46.789479 ]\n",
    "df_saopaulo.describe()"
   ]
  },
  {
   "cell_type": "markdown",
   "metadata": {},
   "source": [
    "Ok, we don't have so many wrong values. So, the next steps will be substitute them from Null values and after for the mean. "
   ]
  },
  {
   "cell_type": "code",
   "execution_count": 17,
   "metadata": {},
   "outputs": [],
   "source": [
    "#Substituting all the outside São Paulo values for NULL values\n",
    "df['Latitude']= np.where(df['Latitude']< -23.851887, np.nan, df['Latitude'])\n",
    "df['Latitude']= np.where(df['Latitude']> -23.389128, np.nan, df['Latitude'])\n",
    "df['Longitude']= np.where(df['Longitude']> -46.369222, np.nan, df['Longitude'])\n",
    "df['Longitude']= np.where(df['Longitude']< -46.789479, np.nan, df['Longitude'])"
   ]
  },
  {
   "cell_type": "code",
   "execution_count": 18,
   "metadata": {},
   "outputs": [],
   "source": [
    "#Now let's fill them with the mean.\n",
    "df['Longitude'].fillna((df['Longitude'].mean()), inplace=True)\n",
    "df['Latitude'].fillna((df['Latitude'].mean()), inplace=True)"
   ]
  },
  {
   "cell_type": "markdown",
   "metadata": {},
   "source": [
    "Now, I will plot again to check how the values are sorted."
   ]
  },
  {
   "cell_type": "code",
   "execution_count": 19,
   "metadata": {},
   "outputs": [
    {
     "data": {
      "text/plain": [
       "<Figure size 720x720 with 0 Axes>"
      ]
     },
     "metadata": {},
     "output_type": "display_data"
    },
    {
     "data": {
      "image/png": "[encoded data removed]",
      "text/plain": [
       "<Figure size 720x720 with 3 Axes>"
      ]
     },
     "metadata": {
      "needs_background": "light"
     },
     "output_type": "display_data"
    },
    {
     "data": {
      "text/plain": [
       "<function seaborn.utils.despine(fig=None, ax=None, top=True, right=True, left=False, bottom=False, offset=None, trim=False)>"
      ]
     },
     "execution_count": 19,
     "metadata": {},
     "output_type": "execute_result"
    }
   ],
   "source": [
    "#Plotting a figure with our Latitude and Longitude values.\n",
    "plt.figure(figsize=(10,10))\n",
    "sns.jointplot(x=df['Latitude'].values, y=df['Longitude'].values, height=10)\n",
    "plt.ylabel('Longitude', fontsize=12)\n",
    "plt.xlabel('Latitude', fontsize=12)\n",
    "plt.show()\n",
    "sns.despine"
   ]
  },
  {
   "cell_type": "markdown",
   "metadata": {},
   "source": [
    "Great! Now we have a very different view, the values makes more sens for a city area."
   ]
  },
  {
   "cell_type": "markdown",
   "metadata": {},
   "source": [
    "## How we can get at least 90% accuracy to predict property prices?"
   ]
  },
  {
   "cell_type": "markdown",
   "metadata": {},
   "source": [
    "Now that we have already cleaned the data, let's buid a model to predict the apartaments price! "
   ]
  },
  {
   "cell_type": "markdown",
   "metadata": {},
   "source": [
    "Since we have apartments for sale and rent, maybe will be better ho have 3 differents dataframes:\n",
    "1. All the apartments\n",
    "2. All the apartments for sales\n",
    "3. All the apartments for rent"
   ]
  },
  {
   "cell_type": "markdown",
   "metadata": {},
   "source": [
    "The first 1 we already have, so let's build the other 2."
   ]
  },
  {
   "cell_type": "code",
   "execution_count": 20,
   "metadata": {},
   "outputs": [],
   "source": [
    "# Separating the dataframe into 2 new ones - apartments for rent and for sale\n",
    "df_rent = df[df['Negotiation Type'].str.match('rent')].drop(['Negotiation Type'], axis=1)\n",
    "df_sale = df[df['Negotiation Type'].str.match('sale')].drop(['Negotiation Type'], axis=1)"
   ]
  },
  {
   "cell_type": "markdown",
   "metadata": {},
   "source": [
    "Now, I will create a function to summy the categorical values and create X and y for our models."
   ]
  },
  {
   "cell_type": "code",
   "execution_count": 21,
   "metadata": {},
   "outputs": [],
   "source": [
    "def X_and_y(df):\n",
    "    '''\n",
    "    INPUT\n",
    "    df - pandas dataframe \n",
    "    \n",
    "    OUTPUT\n",
    "    X - A matrix holding all of the variables you want to consider when predicting the response\n",
    "    y - the corresponding response vector\n",
    "    \n",
    "    This function is to produce X and y:\n",
    "    1. Create X as all the columns that are not the Price column\n",
    "    3. Create y as the Price column\n",
    "    4. Drop the Price column from X\n",
    "    5. Create dummy columns for all the categorical variables in X, drop the original columns\n",
    "    '''\n",
    "    # Drop rows with missing salary values\n",
    "    y = df['Price']\n",
    "    \n",
    "    #Drop respondent and expected salary columns\n",
    "    df = df.drop(['Price'], axis=1)\n",
    "        \n",
    "    # Dummy the categorical variables\n",
    "    cat_vars = df.select_dtypes(include=['object']).copy().columns\n",
    "    for var in  cat_vars:\n",
    "        # for each cat add dummy var, drop original column\n",
    "        df = pd.concat([df.drop(var, axis=1), pd.get_dummies(df[var], prefix=var, prefix_sep='_', drop_first=True)], axis=1)\n",
    "    \n",
    "    X = df\n",
    "    return X, y"
   ]
  },
  {
   "cell_type": "markdown",
   "metadata": {},
   "source": [
    "Now let's use this function to create all the X and y for our 3 dataframes."
   ]
  },
  {
   "cell_type": "code",
   "execution_count": 22,
   "metadata": {},
   "outputs": [],
   "source": [
    "#Utiling the function X_and_y() to create our X and y for each dataframe.\n",
    "X, y = X_and_y(df)\n",
    "X_rent, y_rent = X_and_y(df_rent)\n",
    "X_sale, y_sale = X_and_y(df_sale)"
   ]
  },
  {
   "cell_type": "markdown",
   "metadata": {},
   "source": [
    "I will create the function to check if the Linear Regression Model can help us to predict the Prices."
   ]
  },
  {
   "cell_type": "code",
   "execution_count": 23,
   "metadata": {},
   "outputs": [],
   "source": [
    "def linear_regression_model(X, y):\n",
    "    '''\n",
    "    INPUT\n",
    "    X - Dataframe column withou Price column - variables that will help to predict values.\n",
    "    y - Dataframe Price column - values that we want to predict\n",
    "    \n",
    "    OUTPUT\n",
    "    rsquared_score - how close the data are to the fitted regression line\n",
    "    '''\n",
    "    #Split X and y between train and test\n",
    "    X_train, X_test, y_train, y_test = train_test_split(X, y, test_size = .30, random_state=42) \n",
    "\n",
    "    #Linear Regression model and fit\n",
    "    lm_model = linear_model.LinearRegression(normalize=True) # Instantiate\n",
    "    lm_model.fit(X_train, y_train) #Fit\n",
    "\n",
    "    #Predict and score the model\n",
    "    y_test_preds = lm_model.predict(X_test) \n",
    "\n",
    "    #Rsquared and y_test\n",
    "    rsquared_score = metrics.r2_score(y_test, y_test_preds)\n",
    "    \n",
    "    return rsquared_score"
   ]
  },
  {
   "cell_type": "markdown",
   "metadata": {},
   "source": [
    "So, what are our R-squared score for each dataframe?"
   ]
  },
  {
   "cell_type": "code",
   "execution_count": 24,
   "metadata": {},
   "outputs": [
    {
     "data": {
      "text/plain": [
       "0.5010924120835694"
      ]
     },
     "execution_count": 24,
     "metadata": {},
     "output_type": "execute_result"
    }
   ],
   "source": [
    "#R-squared score for all the apartments dataframe\n",
    "linear_regression_model(X, y)"
   ]
  },
  {
   "cell_type": "code",
   "execution_count": 25,
   "metadata": {},
   "outputs": [
    {
     "data": {
      "text/plain": [
       "0.6968649473573372"
      ]
     },
     "execution_count": 25,
     "metadata": {},
     "output_type": "execute_result"
    }
   ],
   "source": [
    "#R-squared score for all the apartments for rent dataframe\n",
    "linear_regression_model(X_rent, y_rent)"
   ]
  },
  {
   "cell_type": "code",
   "execution_count": 26,
   "metadata": {},
   "outputs": [
    {
     "data": {
      "text/plain": [
       "0.7336999244258264"
      ]
     },
     "execution_count": 26,
     "metadata": {},
     "output_type": "execute_result"
    }
   ],
   "source": [
    "#R-squared score for all the apartments for sale dataframe\n",
    "linear_regression_model(X_sale, y_sale)"
   ]
  },
  {
   "cell_type": "markdown",
   "metadata": {},
   "source": [
    "Unfortunately our result were not good, we are far away from our objective: 90%. But we know that the rent and sales dataframes separeted works better. "
   ]
  },
  {
   "cell_type": "markdown",
   "metadata": {},
   "source": [
    "But before giving up on that model. Let's try to find if less features can help us."
   ]
  },
  {
   "cell_type": "code",
   "execution_count": 27,
   "metadata": {},
   "outputs": [],
   "source": [
    "def find_optimal_lm_mod(X, y, cutoffs, test_size = .30, random_state=42, plot=True):\n",
    "    '''\n",
    "    INPUT\n",
    "    X - pandas dataframe, X matrix\n",
    "    y - pandas dataframe, response variable\n",
    "    cutoffs - list of ints, cutoff for number of non-zero values in dummy categorical vars\n",
    "    test_size - float between 0 and 1, default 0.3, determines the proportion of data as test data\n",
    "    random_state - int, default 42, controls random state for train_test_split\n",
    "    plot - boolean, default 0.3, True to plot result\n",
    "    \n",
    "    OUTPUT\n",
    "    r2_scores_test - list of floats of r2 scores on the test data\n",
    "    r2_scores_train - list of floats of r2 scores on the train data\n",
    "    lm_model - model object from sklearn\n",
    "    X_train, X_test, y_train, y_test - output from sklearn train test split used for optimal model\n",
    "    '''\n",
    "    r2_scores_test, r2_scores_train, num_feats, results = [], [], [], dict()\n",
    "    for cutoff in cutoffs:\n",
    "\n",
    "        #reduce X matrix\n",
    "        reduce_X = X.iloc[:, np.where((X.sum() > cutoff) == True)[0]]\n",
    "        num_feats.append(reduce_X.shape[1])\n",
    "\n",
    "        #split the data into train and test\n",
    "        X_train, X_test, y_train, y_test = train_test_split(reduce_X, y, test_size = test_size, random_state=random_state)\n",
    "\n",
    "        #fit the model and obtain pred response\n",
    "        lm_model = linear_model.LinearRegression(normalize=True)\n",
    "        lm_model.fit(X_train, y_train)\n",
    "        y_test_preds = lm_model.predict(X_test)\n",
    "        y_train_preds = lm_model.predict(X_train)\n",
    "\n",
    "        #append the r2 value from the test set\n",
    "        r2_scores_test.append(metrics.r2_score(y_test, y_test_preds))\n",
    "        r2_scores_train.append(metrics.r2_score(y_train, y_train_preds))\n",
    "        results[str(cutoff)] = metrics.r2_score(y_test, y_test_preds)\n",
    "\n",
    "    if plot:\n",
    "        plt.plot(num_feats, r2_scores_test, label=\"Test\", alpha=.5)\n",
    "        plt.plot(num_feats, r2_scores_train, label=\"Train\", alpha=.5)\n",
    "        plt.xlabel('Number of Features')\n",
    "        plt.ylabel('Rsquared')\n",
    "        plt.title('Rsquared by Number of Features')\n",
    "        plt.legend(loc=1)\n",
    "        plt.show()\n",
    "\n",
    "    best_cutoff = max(results, key=results.get)\n",
    "\n",
    "    #reduce X matrix\n",
    "    reduce_X = X.iloc[:, np.where((X.sum() > int(best_cutoff)) == True)[0]]\n",
    "    num_feats.append(reduce_X.shape[1])\n",
    "\n",
    "    #split the data into train and test\n",
    "    X_train, X_test, y_train, y_test = train_test_split(reduce_X, y, test_size = test_size, random_state=random_state)\n",
    "\n",
    "    #fit the model\n",
    "    lm_model = linear_model.LinearRegression(normalize=True)\n",
    "    lm_model.fit(X_train, y_train)\n",
    "\n",
    "    return r2_scores_test, r2_scores_train, lm_model, X_train, X_test, y_train, y_test"
   ]
  },
  {
   "cell_type": "code",
   "execution_count": 28,
   "metadata": {},
   "outputs": [
    {
     "data": {
      "image/png": "[encoded data removed]",
      "text/plain": [
       "<Figure size 432x288 with 1 Axes>"
      ]
     },
     "metadata": {
      "needs_background": "light"
     },
     "output_type": "display_data"
    }
   ],
   "source": [
    "# First we input the cutoffs that we want to test, after we just call the function for each dataframe\n",
    "cutoffs = [108, 80, 60, 40, 20, 10, 5]\n",
    "r2_test, r2_train, rf_model, X_train, X_test, y_train, y_test = find_optimal_lm_mod(X, y, cutoffs)"
   ]
  },
  {
   "cell_type": "code",
   "execution_count": 29,
   "metadata": {},
   "outputs": [
    {
     "data": {
      "image/png": "[encoded data removed]",
      "text/plain": [
       "<Figure size 432x288 with 1 Axes>"
      ]
     },
     "metadata": {
      "needs_background": "light"
     },
     "output_type": "display_data"
    }
   ],
   "source": [
    "r2_test, r2_train, rf_model, X_train, X_test, y_train, y_test = find_optimal_lm_mod(X_rent, y_rent, cutoffs)"
   ]
  },
  {
   "cell_type": "code",
   "execution_count": 30,
   "metadata": {},
   "outputs": [
    {
     "data": {
      "image/png": "[encoded data removed]",
      "text/plain": [
       "<Figure size 432x288 with 1 Axes>"
      ]
     },
     "metadata": {
      "needs_background": "light"
     },
     "output_type": "display_data"
    }
   ],
   "source": [
    "r2_test, r2_train, rf_model, X_train, X_test, y_train, y_test = find_optimal_lm_mod(X_sale, y_sale, cutoffs)"
   ]
  },
  {
   "cell_type": "markdown",
   "metadata": {},
   "source": [
    "Having a different number of features will not help us. Will be better to use another model."
   ]
  },
  {
   "cell_type": "markdown",
   "metadata": {},
   "source": [
    "Searching for a better model, I founded the Gradiente Boosting Regressor! Let's try this:"
   ]
  },
  {
   "cell_type": "code",
   "execution_count": 31,
   "metadata": {},
   "outputs": [],
   "source": [
    "def gradient_boosting(X, y):\n",
    "    '''\n",
    "    INPUT\n",
    "    X - Dataframe column withou Price column - variables that will help to predict values.\n",
    "    y - Dataframe Price column - values that we want to predict\n",
    "    \n",
    "    OUTPUT\n",
    "    clf_score - the coefficient of determination R^2 of the prediction.\n",
    "    '''\n",
    "    #split the data into train and test\n",
    "    X_train, X_test, y_train, y_test = train_test_split(X, y, test_size = .30, random_state=42) \n",
    "    \n",
    "    #Predict and score the model\n",
    "    clf = ensemble.GradientBoostingRegressor(n_estimators = 300, max_depth = 5, min_samples_split = 2,\n",
    "          learning_rate = 0.1, loss = 'ls')\n",
    "    clf.fit(X_train, y_train)\n",
    "    #Clf Socre\n",
    "    clf_score = clf.score(X_test,y_test)\n",
    "    \n",
    "    return clf_score"
   ]
  },
  {
   "cell_type": "code",
   "execution_count": 32,
   "metadata": {},
   "outputs": [
    {
     "data": {
      "text/plain": [
       "0.9317179570040728"
      ]
     },
     "execution_count": 32,
     "metadata": {},
     "output_type": "execute_result"
    }
   ],
   "source": [
    "#Clf score for all the apartments dataframe\n",
    "gradient_boosting(X, y)"
   ]
  },
  {
   "cell_type": "code",
   "execution_count": 33,
   "metadata": {},
   "outputs": [
    {
     "data": {
      "text/plain": [
       "0.7820656089367877"
      ]
     },
     "execution_count": 33,
     "metadata": {},
     "output_type": "execute_result"
    }
   ],
   "source": [
    "#Clf score for all the apartments for rent dataframe\n",
    "gradient_boosting(X_rent, y_rent)"
   ]
  },
  {
   "cell_type": "code",
   "execution_count": 34,
   "metadata": {},
   "outputs": [
    {
     "data": {
      "text/plain": [
       "0.9047929906199526"
      ]
     },
     "execution_count": 34,
     "metadata": {},
     "output_type": "execute_result"
    }
   ],
   "source": [
    "#Clf score for all the apartments for sale dataframe\n",
    "gradient_boosting(X_sale, y_sale)"
   ]
  },
  {
   "cell_type": "markdown",
   "metadata": {},
   "source": [
    "Wow!!! It's done, and this model worked better for the dataframe with all the aparments! More than 93% ACCURACY."
   ]
  },
  {
   "cell_type": "markdown",
   "metadata": {},
   "source": [
    "## What neighborhoods in São Paulo have the highest squared meter price? And the lowest?"
   ]
  },
  {
   "cell_type": "markdown",
   "metadata": {},
   "source": [
    "For this part, I will duplicate the rend and sale dataframes, but including the Squared Meter Price as a new variable:"
   ]
  },
  {
   "cell_type": "code",
   "execution_count": 35,
   "metadata": {},
   "outputs": [],
   "source": [
    "#Creating new rent dataframe, including the Squared Meter Price new column\n",
    "df_new_rent = df_rent\n",
    "df_new_rent['Squared Meter Price'] = df_new_rent.apply(lambda row: row['Price'] / row['Size'], axis=1)"
   ]
  },
  {
   "cell_type": "code",
   "execution_count": 36,
   "metadata": {},
   "outputs": [],
   "source": [
    "#Creating new sale dataframe, including the Squared Meter Price new column\n",
    "df_new_sale = df_sale\n",
    "df_new_sale['Squared Meter Price'] = df_new_sale.apply(lambda row: row['Price'] / row['Size'], axis=1)"
   ]
  },
  {
   "cell_type": "markdown",
   "metadata": {},
   "source": [
    "Now I need to calculate the mean for each Discrict(Neighborhood):"
   ]
  },
  {
   "cell_type": "code",
   "execution_count": 37,
   "metadata": {},
   "outputs": [],
   "source": [
    "#Now, in a new dataframe, I will group the squared meter price by the district and calculathe the mean\n",
    "df_rent_sqm = df_new_rent.groupby('District', as_index=False)['Squared Meter Price'].mean().sort_values(by=['Squared Meter Price'], ascending=False)\n",
    "df_sale_sqm = df_new_sale.groupby('District', as_index=False)['Squared Meter Price'].mean().sort_values(by=['Squared Meter Price'], ascending=False)"
   ]
  },
  {
   "cell_type": "markdown",
   "metadata": {},
   "source": [
    "Let's plot the 10 districts with the highest Squared Meter Price (first for rent, after for sale):"
   ]
  },
  {
   "cell_type": "code",
   "execution_count": 38,
   "metadata": {},
   "outputs": [
    {
     "data": {
      "image/png": "[encoded data removed]",
      "text/plain": [
       "<Figure size 432x288 with 1 Axes>"
      ]
     },
     "metadata": {
      "needs_background": "light"
     },
     "output_type": "display_data"
    }
   ],
   "source": [
    "ax = sns.barplot(x='Squared Meter Price', y='District', data=df_rent_sqm.head(10), palette=sns.color_palette(\"Blues_r\", 10))     "
   ]
  },
  {
   "cell_type": "code",
   "execution_count": 39,
   "metadata": {},
   "outputs": [
    {
     "data": {
      "image/png": "[encoded data removed]",
      "text/plain": [
       "<Figure size 432x288 with 1 Axes>"
      ]
     },
     "metadata": {
      "needs_background": "light"
     },
     "output_type": "display_data"
    }
   ],
   "source": [
    "ax = sns.barplot(x='Squared Meter Price', y='District', data=df_sale_sqm.head(10), palette=sns.color_palette(\"Blues_r\", 10))"
   ]
  },
  {
   "cell_type": "markdown",
   "metadata": {},
   "source": [
    "Here we can already see the differences:\n",
    "- We have 9 districts that are in both lists: Iguatemi, Vila Olimpia, Itaim Bibi, Brooklin, Pinheiros, Vila Madalena, Moema, Campo Belo and Jardim Paulista.\n",
    "- Alto de Pinheiros is just in the 10 highest Squared Meter Price for sale.\n",
    "- Consolação is just in the 10 highest Squared Meter Price for rent."
   ]
  },
  {
   "cell_type": "markdown",
   "metadata": {},
   "source": [
    "Now, I will plot the 10 districts with the lowest Squared Meter Price (first for rent, after for sale):"
   ]
  },
  {
   "cell_type": "code",
   "execution_count": 40,
   "metadata": {},
   "outputs": [
    {
     "data": {
      "image/png": "[encoded data removed]",
      "text/plain": [
       "<Figure size 432x288 with 1 Axes>"
      ]
     },
     "metadata": {
      "needs_background": "light"
     },
     "output_type": "display_data"
    }
   ],
   "source": [
    "ax = sns.barplot(x='Squared Meter Price', y='District', data=df_rent_sqm.tail(10), palette=sns.color_palette(\"Reds\", 10))"
   ]
  },
  {
   "cell_type": "code",
   "execution_count": 41,
   "metadata": {},
   "outputs": [
    {
     "data": {
      "image/png": "[encoded data removed]",
      "text/plain": [
       "<Figure size 432x288 with 1 Axes>"
      ]
     },
     "metadata": {
      "needs_background": "light"
     },
     "output_type": "display_data"
    }
   ],
   "source": [
    "ax = sns.barplot(x='Squared Meter Price', y='District', data=df_sale_sqm.tail(10), palette=sns.color_palette(\"Reds\", 10))"
   ]
  },
  {
   "cell_type": "markdown",
   "metadata": {},
   "source": [
    "Let's understand this data:\n",
    "\n",
    "- We have 5 districts that are in both lists: Grajaú, Artur Alvim, Itaim Paulista, Lajeado and Guaianazes.\n",
    "- Capão Redondo, Medeiros, Itaquera, São Rafael and Cidade Tiradents are just in the 10 lowest Squared Meter Price for sale.\n",
    "- Ponte Rasa, Jardim Helena, Jaçanã, José Bonifácio and Jardim São Luis are just in the 10 lowest Squared Meter Price for rent."
   ]
  },
  {
   "cell_type": "markdown",
   "metadata": {},
   "source": [
    "## Rent vs Sale: what is the difference between variables correlation with price?"
   ]
  },
  {
   "cell_type": "markdown",
   "metadata": {},
   "source": [
    "Now let's see which variables impacts more in Price!\n",
    "First I will plot a Heatmap indicating the variables correlation with price of all dataset:"
   ]
  },
  {
   "cell_type": "code",
   "execution_count": 43,
   "metadata": {},
   "outputs": [
    {
     "data": {
      "image/png": "[encoded data removed]",
      "text/plain": [
       "<Figure size 1440x360 with 2 Axes>"
      ]
     },
     "metadata": {
      "needs_background": "light"
     },
     "output_type": "display_data"
    }
   ],
   "source": [
    "plt.figure(figsize=(20,5))\n",
    "sns.heatmap(df.corr().loc[['Price'],:],cmap='coolwarm', annot=True, fmt=\".2f\");"
   ]
  },
  {
   "cell_type": "markdown",
   "metadata": {},
   "source": [
    "This analysis don't show us so much, so I will separate this heatmap between Rent and Sales datasets."
   ]
  },
  {
   "cell_type": "code",
   "execution_count": 44,
   "metadata": {},
   "outputs": [
    {
     "data": {
      "image/png": "[encoded data removed]",
      "text/plain": [
       "<Figure size 1440x360 with 2 Axes>"
      ]
     },
     "metadata": {
      "needs_background": "light"
     },
     "output_type": "display_data"
    }
   ],
   "source": [
    "plt.figure(figsize=(20,5))\n",
    "sns.heatmap(df_rent.corr().loc[['Price'],:],cmap='coolwarm', annot=True, fmt=\".2f\");"
   ]
  },
  {
   "cell_type": "code",
   "execution_count": 45,
   "metadata": {},
   "outputs": [
    {
     "data": {
      "image/png": "[encoded data removed]",
      "text/plain": [
       "<Figure size 1440x360 with 2 Axes>"
      ]
     },
     "metadata": {
      "needs_background": "light"
     },
     "output_type": "display_data"
    }
   ],
   "source": [
    "plt.figure(figsize=(20,5))\n",
    "sns.heatmap(df_sale.corr().loc[['Price'],:],cmap='coolwarm', annot=True, fmt=\".2f\");"
   ]
  },
  {
   "cell_type": "markdown",
   "metadata": {},
   "source": [
    "At those heatmap we can see some difference. \n",
    "\n",
    "Let's begin with variables that impacts more when the apartment is for sale:\n",
    "- Size, number of rooms, toilets and parking spots.\n",
    "\n",
    "And the variables that impacts more when the apartment is for rent:\n",
    "- The condo price and if the apartment is furnished.\n",
    "\n",
    "Bringing that to reality makes sense, because the variables with a bigger correlation in the sale dataset are more about long-term characteristics and in the rent dataset are more about short-term characteristics."
   ]
  },
  {
   "cell_type": "markdown",
   "metadata": {},
   "source": [
    "Another way to undestand that is to measure the coefficient weights in a Linear Regression model that we tried before:"
   ]
  },
  {
   "cell_type": "code",
   "execution_count": 47,
   "metadata": {},
   "outputs": [],
   "source": [
    "def coef_weights(df):\n",
    "    \n",
    "    # Drop rows with missing salary values\n",
    "    y = df['Price']\n",
    "    \n",
    "    #Drop respondent and expected salary columns\n",
    "    df = df.drop(['Price','District'], axis=1)\n",
    "        \n",
    "    # Dummy the categorical variables\n",
    "    cat_vars = df.select_dtypes(include=['object']).copy().columns\n",
    "    for var in  cat_vars:\n",
    "        # for each cat add dummy var, drop original column\n",
    "        df = pd.concat([df.drop(var, axis=1), pd.get_dummies(df[var], prefix=var, prefix_sep='_', drop_first=True)], axis=1)\n",
    "    \n",
    "    X = df\n",
    "    \n",
    "    X_train, X_test, y_train, y_test = train_test_split(X, y, test_size = .30, random_state=42) \n",
    "    lm_model = linear_model.LinearRegression(normalize=True) # Instantiate\n",
    "    lm_model.fit(X_train, y_train) #Fit\n",
    "    \n",
    "    '''\n",
    "    INPUT:\n",
    "    coefficients - the coefficients of the linear model \n",
    "    X_train - the training data, so the column names can be used\n",
    "    OUTPUT:\n",
    "    coefs_df - a dataframe holding the coefficient, estimate, and abs(estimate)\n",
    "    \n",
    "    Provides a dataframe that can be used to understand the most influential coefficients\n",
    "    in a linear model by providing the coefficient estimates along with the name of the \n",
    "    variable attached to the coefficient.\n",
    "    '''\n",
    "    coefs_df = pd.DataFrame()\n",
    "    coefs_df['est_int'] = X_train.columns\n",
    "    coefs_df['coefs'] = lm_model.coef_\n",
    "    coefs_df['abs_coefs'] = np.abs(lm_model.coef_)\n",
    "    coefs_df = coefs_df.sort_values('abs_coefs', ascending=False)\n",
    "    return coefs_df\n",
    "\n"
   ]
  },
  {
   "cell_type": "code",
   "execution_count": 562,
   "metadata": {},
   "outputs": [
    {
     "data": {
      "text/html": [
       "<div>\n",
       "<style scoped>\n",
       "    .dataframe tbody tr th:only-of-type {\n",
       "        vertical-align: middle;\n",
       "    }\n",
       "\n",
       "    .dataframe tbody tr th {\n",
       "        vertical-align: top;\n",
       "    }\n",
       "\n",
       "    .dataframe thead th {\n",
       "        text-align: right;\n",
       "    }\n",
       "</style>\n",
       "<table border=\"1\" class=\"dataframe\">\n",
       "  <thead>\n",
       "    <tr style=\"text-align: right;\">\n",
       "      <th></th>\n",
       "      <th>est_int</th>\n",
       "      <th>coefs</th>\n",
       "      <th>abs_coefs</th>\n",
       "    </tr>\n",
       "  </thead>\n",
       "  <tbody>\n",
       "    <tr>\n",
       "      <th>11</th>\n",
       "      <td>Longitude</td>\n",
       "      <td>1883.203287</td>\n",
       "      <td>1883.203287</td>\n",
       "    </tr>\n",
       "    <tr>\n",
       "      <th>10</th>\n",
       "      <td>Latitude</td>\n",
       "      <td>1016.841974</td>\n",
       "      <td>1016.841974</td>\n",
       "    </tr>\n",
       "    <tr>\n",
       "      <th>8</th>\n",
       "      <td>Swimming Pool</td>\n",
       "      <td>-398.852682</td>\n",
       "      <td>398.852682</td>\n",
       "    </tr>\n",
       "    <tr>\n",
       "      <th>9</th>\n",
       "      <td>New</td>\n",
       "      <td>-272.883072</td>\n",
       "      <td>272.883072</td>\n",
       "    </tr>\n",
       "    <tr>\n",
       "      <th>3</th>\n",
       "      <td>Toilets</td>\n",
       "      <td>234.883829</td>\n",
       "      <td>234.883829</td>\n",
       "    </tr>\n",
       "    <tr>\n",
       "      <th>5</th>\n",
       "      <td>Parking</td>\n",
       "      <td>232.767158</td>\n",
       "      <td>232.767158</td>\n",
       "    </tr>\n",
       "    <tr>\n",
       "      <th>2</th>\n",
       "      <td>Rooms</td>\n",
       "      <td>200.166586</td>\n",
       "      <td>200.166586</td>\n",
       "    </tr>\n",
       "    <tr>\n",
       "      <th>7</th>\n",
       "      <td>Furnished</td>\n",
       "      <td>-160.857741</td>\n",
       "      <td>160.857741</td>\n",
       "    </tr>\n",
       "    <tr>\n",
       "      <th>4</th>\n",
       "      <td>Suites</td>\n",
       "      <td>-138.376580</td>\n",
       "      <td>138.376580</td>\n",
       "    </tr>\n",
       "    <tr>\n",
       "      <th>12</th>\n",
       "      <td>Squared Meter Price</td>\n",
       "      <td>97.251337</td>\n",
       "      <td>97.251337</td>\n",
       "    </tr>\n",
       "    <tr>\n",
       "      <th>1</th>\n",
       "      <td>Size</td>\n",
       "      <td>31.833512</td>\n",
       "      <td>31.833512</td>\n",
       "    </tr>\n",
       "    <tr>\n",
       "      <th>6</th>\n",
       "      <td>Elevator</td>\n",
       "      <td>-17.811980</td>\n",
       "      <td>17.811980</td>\n",
       "    </tr>\n",
       "    <tr>\n",
       "      <th>0</th>\n",
       "      <td>Condo</td>\n",
       "      <td>0.235649</td>\n",
       "      <td>0.235649</td>\n",
       "    </tr>\n",
       "  </tbody>\n",
       "</table>\n",
       "</div>"
      ],
      "text/plain": [
       "                est_int        coefs    abs_coefs\n",
       "11            Longitude  1883.203287  1883.203287\n",
       "10             Latitude  1016.841974  1016.841974\n",
       "8         Swimming Pool  -398.852682   398.852682\n",
       "9                   New  -272.883072   272.883072\n",
       "3               Toilets   234.883829   234.883829\n",
       "5               Parking   232.767158   232.767158\n",
       "2                 Rooms   200.166586   200.166586\n",
       "7             Furnished  -160.857741   160.857741\n",
       "4                Suites  -138.376580   138.376580\n",
       "12  Squared Meter Price    97.251337    97.251337\n",
       "1                  Size    31.833512    31.833512\n",
       "6              Elevator   -17.811980    17.811980\n",
       "0                 Condo     0.235649     0.235649"
      ]
     },
     "execution_count": 562,
     "metadata": {},
     "output_type": "execute_result"
    }
   ],
   "source": [
    "coef_weights(df_rent).head(20)"
   ]
  },
  {
   "cell_type": "code",
   "execution_count": 563,
   "metadata": {},
   "outputs": [
    {
     "data": {
      "text/html": [
       "<div>\n",
       "<style scoped>\n",
       "    .dataframe tbody tr th:only-of-type {\n",
       "        vertical-align: middle;\n",
       "    }\n",
       "\n",
       "    .dataframe tbody tr th {\n",
       "        vertical-align: top;\n",
       "    }\n",
       "\n",
       "    .dataframe thead th {\n",
       "        text-align: right;\n",
       "    }\n",
       "</style>\n",
       "<table border=\"1\" class=\"dataframe\">\n",
       "  <thead>\n",
       "    <tr style=\"text-align: right;\">\n",
       "      <th></th>\n",
       "      <th>est_int</th>\n",
       "      <th>coefs</th>\n",
       "      <th>abs_coefs</th>\n",
       "    </tr>\n",
       "  </thead>\n",
       "  <tbody>\n",
       "    <tr>\n",
       "      <th>11</th>\n",
       "      <td>Longitude</td>\n",
       "      <td>676991.107025</td>\n",
       "      <td>676991.107025</td>\n",
       "    </tr>\n",
       "    <tr>\n",
       "      <th>10</th>\n",
       "      <td>Latitude</td>\n",
       "      <td>-154950.935715</td>\n",
       "      <td>154950.935715</td>\n",
       "    </tr>\n",
       "    <tr>\n",
       "      <th>4</th>\n",
       "      <td>Suites</td>\n",
       "      <td>95730.275565</td>\n",
       "      <td>95730.275565</td>\n",
       "    </tr>\n",
       "    <tr>\n",
       "      <th>8</th>\n",
       "      <td>Swimming Pool</td>\n",
       "      <td>-72137.878821</td>\n",
       "      <td>72137.878821</td>\n",
       "    </tr>\n",
       "    <tr>\n",
       "      <th>7</th>\n",
       "      <td>Furnished</td>\n",
       "      <td>-69741.144996</td>\n",
       "      <td>69741.144996</td>\n",
       "    </tr>\n",
       "    <tr>\n",
       "      <th>5</th>\n",
       "      <td>Parking</td>\n",
       "      <td>66141.099217</td>\n",
       "      <td>66141.099217</td>\n",
       "    </tr>\n",
       "    <tr>\n",
       "      <th>9</th>\n",
       "      <td>New</td>\n",
       "      <td>55063.540506</td>\n",
       "      <td>55063.540506</td>\n",
       "    </tr>\n",
       "    <tr>\n",
       "      <th>3</th>\n",
       "      <td>Toilets</td>\n",
       "      <td>-49586.048336</td>\n",
       "      <td>49586.048336</td>\n",
       "    </tr>\n",
       "    <tr>\n",
       "      <th>2</th>\n",
       "      <td>Rooms</td>\n",
       "      <td>-30378.333389</td>\n",
       "      <td>30378.333389</td>\n",
       "    </tr>\n",
       "    <tr>\n",
       "      <th>6</th>\n",
       "      <td>Elevator</td>\n",
       "      <td>-8834.772234</td>\n",
       "      <td>8834.772234</td>\n",
       "    </tr>\n",
       "    <tr>\n",
       "      <th>1</th>\n",
       "      <td>Size</td>\n",
       "      <td>8815.968250</td>\n",
       "      <td>8815.968250</td>\n",
       "    </tr>\n",
       "    <tr>\n",
       "      <th>12</th>\n",
       "      <td>Squared Meter Price</td>\n",
       "      <td>115.865624</td>\n",
       "      <td>115.865624</td>\n",
       "    </tr>\n",
       "    <tr>\n",
       "      <th>0</th>\n",
       "      <td>Condo</td>\n",
       "      <td>0.479025</td>\n",
       "      <td>0.479025</td>\n",
       "    </tr>\n",
       "  </tbody>\n",
       "</table>\n",
       "</div>"
      ],
      "text/plain": [
       "                est_int          coefs      abs_coefs\n",
       "11            Longitude  676991.107025  676991.107025\n",
       "10             Latitude -154950.935715  154950.935715\n",
       "4                Suites   95730.275565   95730.275565\n",
       "8         Swimming Pool  -72137.878821   72137.878821\n",
       "7             Furnished  -69741.144996   69741.144996\n",
       "5               Parking   66141.099217   66141.099217\n",
       "9                   New   55063.540506   55063.540506\n",
       "3               Toilets  -49586.048336   49586.048336\n",
       "2                 Rooms  -30378.333389   30378.333389\n",
       "6              Elevator   -8834.772234    8834.772234\n",
       "1                  Size    8815.968250    8815.968250\n",
       "12  Squared Meter Price     115.865624     115.865624\n",
       "0                 Condo       0.479025       0.479025"
      ]
     },
     "execution_count": 563,
     "metadata": {},
     "output_type": "execute_result"
    }
   ],
   "source": [
    "coef_weights(df_sale).head(20)"
   ]
  },
  {
   "cell_type": "markdown",
   "metadata": {},
   "source": [
    "In this case, we can understand that Geographic Location is the more important charecteristic to define the price, what is very true. We can see this difference when we analysed the Districts with the higghest and lowest squared meter price.\n",
    "\n",
    "- Suites and Furnished has bigger impact on price when we look to the sale dataframe.\n",
    "- New and Toilets has bigger impact on price when we look to the rent dataframe."
   ]
  }
 ],
 "metadata": {
  "kernelspec": {
   "display_name": "Python 3",
   "language": "python",
   "name": "python3"
  },
  "language_info": {
   "codemirror_mode": {
    "name": "ipython",
    "version": 3
   },
   "file_extension": ".py",
   "mimetype": "text/x-python",
   "name": "python",
   "nbconvert_exporter": "python",
   "pygments_lexer": "ipython3",
   "version": "3.7.1"
  }
 },
 "nbformat": 4,
 "nbformat_minor": 1
}
